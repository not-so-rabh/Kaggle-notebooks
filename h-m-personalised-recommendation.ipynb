{
 "cells": [
  {
   "cell_type": "code",
   "execution_count": 1,
   "id": "60d9876d",
   "metadata": {
    "_cell_guid": "b1076dfc-b9ad-4769-8c92-a6c4dae69d19",
    "_uuid": "8f2839f25d086af736a60e9eeb907d3b93b6e0e5",
    "execution": {
     "iopub.execute_input": "2022-04-09T06:54:37.748346Z",
     "iopub.status.busy": "2022-04-09T06:54:37.747812Z",
     "iopub.status.idle": "2022-04-09T06:54:37.749932Z",
     "shell.execute_reply": "2022-04-09T06:54:37.750439Z"
    },
    "papermill": {
     "duration": 0.014399,
     "end_time": "2022-04-09T06:54:37.750754",
     "exception": false,
     "start_time": "2022-04-09T06:54:37.736355",
     "status": "completed"
    },
    "tags": []
   },
   "outputs": [],
   "source": [
    "## MODULE INSTALLATION\n"
   ]
  },
  {
   "cell_type": "code",
   "execution_count": 2,
   "id": "4d32743a",
   "metadata": {
    "execution": {
     "iopub.execute_input": "2022-04-09T06:54:37.765281Z",
     "iopub.status.busy": "2022-04-09T06:54:37.764738Z",
     "iopub.status.idle": "2022-04-09T06:54:37.771489Z",
     "shell.execute_reply": "2022-04-09T06:54:37.772037Z"
    },
    "papermill": {
     "duration": 0.014423,
     "end_time": "2022-04-09T06:54:37.772210",
     "exception": false,
     "start_time": "2022-04-09T06:54:37.757787",
     "status": "completed"
    },
    "tags": []
   },
   "outputs": [],
   "source": [
    "## IMPORTS\n",
    "import pandas as pd"
   ]
  },
  {
   "cell_type": "code",
   "execution_count": 3,
   "id": "a2d783ea",
   "metadata": {
    "execution": {
     "iopub.execute_input": "2022-04-09T06:54:37.784365Z",
     "iopub.status.busy": "2022-04-09T06:54:37.783835Z",
     "iopub.status.idle": "2022-04-09T06:54:37.787009Z",
     "shell.execute_reply": "2022-04-09T06:54:37.787506Z"
    },
    "papermill": {
     "duration": 0.010695,
     "end_time": "2022-04-09T06:54:37.787678",
     "exception": false,
     "start_time": "2022-04-09T06:54:37.776983",
     "status": "completed"
    },
    "tags": []
   },
   "outputs": [],
   "source": [
    "## DATAPATHS\n",
    "IAMGES_FOLDER = '../input/h-and-m-personalized-fashion-recommendations/images'\n",
    "ARTICLES = '../input/h-and-m-personalized-fashion-recommendations/articles.csv'\n",
    "CUSTOMERS = '../input/h-and-m-personalized-fashion-recommendations/customers.csv'\n",
    "TRANSACTIONS = '../input/h-and-m-personalized-fashion-recommendations/transactions_train.csv'"
   ]
  },
  {
   "cell_type": "code",
   "execution_count": 4,
   "id": "80072b9a",
   "metadata": {
    "execution": {
     "iopub.execute_input": "2022-04-09T06:54:37.799557Z",
     "iopub.status.busy": "2022-04-09T06:54:37.799013Z",
     "iopub.status.idle": "2022-04-09T06:55:49.564053Z",
     "shell.execute_reply": "2022-04-09T06:55:49.564664Z"
    },
    "papermill": {
     "duration": 71.772598,
     "end_time": "2022-04-09T06:55:49.564912",
     "exception": false,
     "start_time": "2022-04-09T06:54:37.792314",
     "status": "completed"
    },
    "tags": []
   },
   "outputs": [],
   "source": [
    "article_df = pd.read_csv(ARTICLES)\n",
    "customers_df = pd.read_csv(CUSTOMERS)\n",
    "transactions = pd.read_csv(TRANSACTIONS)"
   ]
  },
  {
   "cell_type": "code",
   "execution_count": null,
   "id": "4d17409b",
   "metadata": {
    "papermill": {
     "duration": 0.004802,
     "end_time": "2022-04-09T06:55:49.575080",
     "exception": false,
     "start_time": "2022-04-09T06:55:49.570278",
     "status": "completed"
    },
    "tags": []
   },
   "outputs": [],
   "source": []
  }
 ],
 "metadata": {
  "kernelspec": {
   "display_name": "Python 3",
   "language": "python",
   "name": "python3"
  },
  "language_info": {
   "codemirror_mode": {
    "name": "ipython",
    "version": 3
   },
   "file_extension": ".py",
   "mimetype": "text/x-python",
   "name": "python",
   "nbconvert_exporter": "python",
   "pygments_lexer": "ipython3",
   "version": "3.7.12"
  },
  "papermill": {
   "default_parameters": {},
   "duration": 82.23792,
   "end_time": "2022-04-09T06:55:50.995760",
   "environment_variables": {},
   "exception": null,
   "input_path": "__notebook__.ipynb",
   "output_path": "__notebook__.ipynb",
   "parameters": {},
   "start_time": "2022-04-09T06:54:28.757840",
   "version": "2.3.3"
  }
 },
 "nbformat": 4,
 "nbformat_minor": 5
}
