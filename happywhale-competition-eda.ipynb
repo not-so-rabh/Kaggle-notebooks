{
 "cells": [
  {
   "cell_type": "code",
   "execution_count": 1,
   "id": "d3199fdc",
   "metadata": {
    "_cell_guid": "b1076dfc-b9ad-4769-8c92-a6c4dae69d19",
    "_uuid": "8f2839f25d086af736a60e9eeb907d3b93b6e0e5",
    "execution": {
     "iopub.execute_input": "2022-02-26T08:46:25.705190Z",
     "iopub.status.busy": "2022-02-26T08:46:25.703278Z",
     "iopub.status.idle": "2022-02-26T08:46:25.713346Z",
     "shell.execute_reply": "2022-02-26T08:46:25.713991Z",
     "shell.execute_reply.started": "2022-02-26T08:42:47.437954Z"
    },
    "papermill": {
     "duration": 0.026937,
     "end_time": "2022-02-26T08:46:25.714352",
     "exception": false,
     "start_time": "2022-02-26T08:46:25.687415",
     "status": "completed"
    },
    "tags": []
   },
   "outputs": [],
   "source": [
    "import pandas as pd"
   ]
  },
  {
   "cell_type": "code",
   "execution_count": 2,
   "id": "f48c1520",
   "metadata": {
    "execution": {
     "iopub.execute_input": "2022-02-26T08:46:25.739606Z",
     "iopub.status.busy": "2022-02-26T08:46:25.738608Z",
     "iopub.status.idle": "2022-02-26T08:46:25.740735Z",
     "shell.execute_reply": "2022-02-26T08:46:25.741523Z",
     "shell.execute_reply.started": "2022-02-26T08:44:48.678125Z"
    },
    "papermill": {
     "duration": 0.018628,
     "end_time": "2022-02-26T08:46:25.741801",
     "exception": false,
     "start_time": "2022-02-26T08:46:25.723173",
     "status": "completed"
    },
    "tags": []
   },
   "outputs": [],
   "source": [
    "DATA_FOLDER = \"../input/happy-whale-and-dolphin/\"\n",
    "TEST_IMAGES = \"../input/happy-whale-and-dolphin/test_images/\"\n",
    "TRAIN_IMAGES = \"../input/happy-whale-and-dolphin/train_images/\""
   ]
  },
  {
   "cell_type": "code",
   "execution_count": 3,
   "id": "b302af7b",
   "metadata": {
    "execution": {
     "iopub.execute_input": "2022-02-26T08:46:25.757929Z",
     "iopub.status.busy": "2022-02-26T08:46:25.757246Z",
     "iopub.status.idle": "2022-02-26T08:46:25.928500Z",
     "shell.execute_reply": "2022-02-26T08:46:25.927309Z",
     "shell.execute_reply.started": "2022-02-26T08:44:50.816613Z"
    },
    "papermill": {
     "duration": 0.180019,
     "end_time": "2022-02-26T08:46:25.928693",
     "exception": false,
     "start_time": "2022-02-26T08:46:25.748674",
     "status": "completed"
    },
    "tags": []
   },
   "outputs": [],
   "source": [
    "train_df = pd.read_csv(DATA_FOLDER + \"train.csv\")\n",
    "sample_submission = pd.read_csv(DATA_FOLDER + \"sample_submission.csv\")"
   ]
  },
  {
   "cell_type": "code",
   "execution_count": 4,
   "id": "d2a456ba",
   "metadata": {
    "execution": {
     "iopub.execute_input": "2022-02-26T08:46:25.950168Z",
     "iopub.status.busy": "2022-02-26T08:46:25.949497Z",
     "iopub.status.idle": "2022-02-26T08:46:25.961871Z",
     "shell.execute_reply": "2022-02-26T08:46:25.962361Z",
     "shell.execute_reply.started": "2022-02-26T08:44:56.686313Z"
    },
    "papermill": {
     "duration": 0.027438,
     "end_time": "2022-02-26T08:46:25.962515",
     "exception": false,
     "start_time": "2022-02-26T08:46:25.935077",
     "status": "completed"
    },
    "tags": []
   },
   "outputs": [
    {
     "data": {
      "text/html": [
       "<div>\n",
       "<style scoped>\n",
       "    .dataframe tbody tr th:only-of-type {\n",
       "        vertical-align: middle;\n",
       "    }\n",
       "\n",
       "    .dataframe tbody tr th {\n",
       "        vertical-align: top;\n",
       "    }\n",
       "\n",
       "    .dataframe thead th {\n",
       "        text-align: right;\n",
       "    }\n",
       "</style>\n",
       "<table border=\"1\" class=\"dataframe\">\n",
       "  <thead>\n",
       "    <tr style=\"text-align: right;\">\n",
       "      <th></th>\n",
       "      <th>image</th>\n",
       "      <th>species</th>\n",
       "      <th>individual_id</th>\n",
       "    </tr>\n",
       "  </thead>\n",
       "  <tbody>\n",
       "    <tr>\n",
       "      <th>0</th>\n",
       "      <td>00021adfb725ed.jpg</td>\n",
       "      <td>melon_headed_whale</td>\n",
       "      <td>cadddb1636b9</td>\n",
       "    </tr>\n",
       "    <tr>\n",
       "      <th>1</th>\n",
       "      <td>000562241d384d.jpg</td>\n",
       "      <td>humpback_whale</td>\n",
       "      <td>1a71fbb72250</td>\n",
       "    </tr>\n",
       "    <tr>\n",
       "      <th>2</th>\n",
       "      <td>0007c33415ce37.jpg</td>\n",
       "      <td>false_killer_whale</td>\n",
       "      <td>60008f293a2b</td>\n",
       "    </tr>\n",
       "    <tr>\n",
       "      <th>3</th>\n",
       "      <td>0007d9bca26a99.jpg</td>\n",
       "      <td>bottlenose_dolphin</td>\n",
       "      <td>4b00fe572063</td>\n",
       "    </tr>\n",
       "    <tr>\n",
       "      <th>4</th>\n",
       "      <td>00087baf5cef7a.jpg</td>\n",
       "      <td>humpback_whale</td>\n",
       "      <td>8e5253662392</td>\n",
       "    </tr>\n",
       "    <tr>\n",
       "      <th>...</th>\n",
       "      <td>...</td>\n",
       "      <td>...</td>\n",
       "      <td>...</td>\n",
       "    </tr>\n",
       "    <tr>\n",
       "      <th>51028</th>\n",
       "      <td>fff639a7a78b3f.jpg</td>\n",
       "      <td>beluga</td>\n",
       "      <td>5ac053677ed1</td>\n",
       "    </tr>\n",
       "    <tr>\n",
       "      <th>51029</th>\n",
       "      <td>fff8b32daff17e.jpg</td>\n",
       "      <td>cuviers_beaked_whale</td>\n",
       "      <td>1184686361b3</td>\n",
       "    </tr>\n",
       "    <tr>\n",
       "      <th>51030</th>\n",
       "      <td>fff94675cc1aef.jpg</td>\n",
       "      <td>blue_whale</td>\n",
       "      <td>5401612696b9</td>\n",
       "    </tr>\n",
       "    <tr>\n",
       "      <th>51031</th>\n",
       "      <td>fffbc5dd642d8c.jpg</td>\n",
       "      <td>beluga</td>\n",
       "      <td>4000b3d7c24e</td>\n",
       "    </tr>\n",
       "    <tr>\n",
       "      <th>51032</th>\n",
       "      <td>fffdcd42312777.jpg</td>\n",
       "      <td>bottlenose_dolphin</td>\n",
       "      <td>4ddb2eeb5efb</td>\n",
       "    </tr>\n",
       "  </tbody>\n",
       "</table>\n",
       "<p>51033 rows × 3 columns</p>\n",
       "</div>"
      ],
      "text/plain": [
       "                    image               species individual_id\n",
       "0      00021adfb725ed.jpg    melon_headed_whale  cadddb1636b9\n",
       "1      000562241d384d.jpg        humpback_whale  1a71fbb72250\n",
       "2      0007c33415ce37.jpg    false_killer_whale  60008f293a2b\n",
       "3      0007d9bca26a99.jpg    bottlenose_dolphin  4b00fe572063\n",
       "4      00087baf5cef7a.jpg        humpback_whale  8e5253662392\n",
       "...                   ...                   ...           ...\n",
       "51028  fff639a7a78b3f.jpg                beluga  5ac053677ed1\n",
       "51029  fff8b32daff17e.jpg  cuviers_beaked_whale  1184686361b3\n",
       "51030  fff94675cc1aef.jpg            blue_whale  5401612696b9\n",
       "51031  fffbc5dd642d8c.jpg                beluga  4000b3d7c24e\n",
       "51032  fffdcd42312777.jpg    bottlenose_dolphin  4ddb2eeb5efb\n",
       "\n",
       "[51033 rows x 3 columns]"
      ]
     },
     "execution_count": 4,
     "metadata": {},
     "output_type": "execute_result"
    }
   ],
   "source": [
    "train_df"
   ]
  },
  {
   "cell_type": "code",
   "execution_count": null,
   "id": "786ed013",
   "metadata": {
    "papermill": {
     "duration": 0.00643,
     "end_time": "2022-02-26T08:46:25.975943",
     "exception": false,
     "start_time": "2022-02-26T08:46:25.969513",
     "status": "completed"
    },
    "tags": []
   },
   "outputs": [],
   "source": []
  }
 ],
 "metadata": {
  "kernelspec": {
   "display_name": "Python 3",
   "language": "python",
   "name": "python3"
  },
  "language_info": {
   "codemirror_mode": {
    "name": "ipython",
    "version": 3
   },
   "file_extension": ".py",
   "mimetype": "text/x-python",
   "name": "python",
   "nbconvert_exporter": "python",
   "pygments_lexer": "ipython3",
   "version": "3.7.12"
  },
  "papermill": {
   "default_parameters": {},
   "duration": 10.358918,
   "end_time": "2022-02-26T08:46:26.592064",
   "environment_variables": {},
   "exception": null,
   "input_path": "__notebook__.ipynb",
   "output_path": "__notebook__.ipynb",
   "parameters": {},
   "start_time": "2022-02-26T08:46:16.233146",
   "version": "2.3.3"
  }
 },
 "nbformat": 4,
 "nbformat_minor": 5
}
